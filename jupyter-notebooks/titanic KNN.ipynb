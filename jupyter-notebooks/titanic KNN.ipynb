{
 "cells": [
  {
   "cell_type": "code",
   "execution_count": 1,
   "metadata": {},
   "outputs": [
    {
     "name": "stderr",
     "output_type": "stream",
     "text": [
      "/usr/local/lib/python3.5/dist-packages/h5py/__init__.py:36: FutureWarning: Conversion of the second argument of issubdtype from `float` to `np.floating` is deprecated. In future, it will be treated as `np.float64 == np.dtype(float).type`.\n",
      "  from ._conv import register_converters as _register_converters\n"
     ]
    }
   ],
   "source": [
    "#utils\n",
    "import pdb\n",
    "import pandas\n",
    "import  numpy as np\n",
    "\n",
    "#sklearn bayes\n",
    "from sklearn.neighbors import KNeighborsClassifier\n",
    "\n",
    "#local utils\n",
    "from utils import Utils\n",
    "\n",
    "dataset,labels = Utils.preprocess()"
   ]
  },
  {
   "cell_type": "code",
   "execution_count": 2,
   "metadata": {},
   "outputs": [
    {
     "name": "stdout",
     "output_type": "stream",
     "text": [
      "   0  1  2        3  4  5         6\n",
      "0  1  0  1  29.0000  0  0  211.3375\n",
      "1  1  1  0   0.9167  1  2  151.5500\n",
      "2  1  0  1   2.0000  1  2  151.5500\n",
      "3  1  2  0  30.0000  1  2  151.5500\n",
      "4  1  3  1  25.0000  1  2  151.5500\n",
      "KNeighborsClassifier(algorithm='auto', leaf_size=30, metric='minkowski',\n",
      "           metric_params=None, n_jobs=1, n_neighbors=5, p=2,\n",
      "           weights='uniform')\n"
     ]
    }
   ],
   "source": [
    "print(dataset.head())\n",
    "\n",
    "knn = KNeighborsClassifier()\n",
    "\n",
    "\n",
    "X=dataset\n",
    "Y=labels\n",
    "\n",
    "y_pred_KNN = knn.fit(X[0:1047], Y[0:1047])\n",
    "\n",
    "\n",
    "print(y_pred_KNN)\n",
    "\n",
    "testPredict_KNN = y_pred_KNN.predict(X[1047:])\n",
    "\n"
   ]
  },
  {
   "cell_type": "code",
   "execution_count": 3,
   "metadata": {},
   "outputs": [
    {
     "name": "stdout",
     "output_type": "stream",
     "text": [
      "KNN--------------------------------------------------\n",
      "Train Set ::>0.7841451766953199\n",
      "Test Set ::>0.7099236641221374\n"
     ]
    }
   ],
   "source": [
    "print('KNN--------------------------------------------------')\n",
    "print('Train Set ::>'+ str(knn.score(X[0:1047],Y[0:1047])))\n",
    "\n",
    "print('Test Set ::>' + str(knn.score(X[1047:],Y[1047:])))\n",
    "\n"
   ]
  }
 ],
 "metadata": {
  "kernelspec": {
   "display_name": "Python 3",
   "language": "python",
   "name": "python3"
  },
  "language_info": {
   "codemirror_mode": {
    "name": "ipython",
    "version": 3
   },
   "file_extension": ".py",
   "mimetype": "text/x-python",
   "name": "python",
   "nbconvert_exporter": "python",
   "pygments_lexer": "ipython3",
   "version": "3.5.2"
  }
 },
 "nbformat": 4,
 "nbformat_minor": 2
}
