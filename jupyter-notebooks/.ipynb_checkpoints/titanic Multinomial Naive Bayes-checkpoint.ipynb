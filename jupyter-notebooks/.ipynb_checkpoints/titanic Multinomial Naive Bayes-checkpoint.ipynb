{
 "cells": [
  {
   "cell_type": "code",
   "execution_count": 1,
   "metadata": {},
   "outputs": [
    {
     "name": "stderr",
     "output_type": "stream",
     "text": [
      "/usr/local/lib/python3.5/dist-packages/h5py/__init__.py:36: FutureWarning: Conversion of the second argument of issubdtype from `float` to `np.floating` is deprecated. In future, it will be treated as `np.float64 == np.dtype(float).type`.\n",
      "  from ._conv import register_converters as _register_converters\n"
     ]
    }
   ],
   "source": [
    "#utils\n",
    "import pdb\n",
    "import pandas\n",
    "import  numpy as np\n",
    "\n",
    "#local utils\n",
    "from utils import Utils\n",
    "\n",
    "#sklearn bayes\n",
    "from sklearn.naive_bayes import MultinomialNB\n",
    "\n",
    "dataset,labels = Utils.preprocess()"
   ]
  },
  {
   "cell_type": "code",
   "execution_count": 2,
   "metadata": {},
   "outputs": [
    {
     "name": "stdout",
     "output_type": "stream",
     "text": [
      "   0  1  2        3  4  5         6\n",
      "0  1  0  1  29.0000  0  0  211.3375\n",
      "1  1  1  0   0.9167  1  2  151.5500\n",
      "2  1  0  1   2.0000  1  2  151.5500\n",
      "3  1  2  0  30.0000  1  2  151.5500\n",
      "4  1  3  1  25.0000  1  2  151.5500\n",
      "MultinomialNB(alpha=1.0, class_prior=None, fit_prior=True)\n"
     ]
    }
   ],
   "source": [
    "X=dataset\n",
    "Y=labels\n",
    "\n",
    "print(dataset.head())\n",
    "\n",
    "gnb = MultinomialNB()\n",
    "\n",
    "\n",
    "y_pred = gnb.fit(X[0:1047], Y[0:1047])\n",
    "\n",
    "\n",
    "print(y_pred)\n",
    "\n",
    "testPredict = y_pred.predict(X[1047:])\n"
   ]
  },
  {
   "cell_type": "code",
   "execution_count": 3,
   "metadata": {},
   "outputs": [
    {
     "name": "stdout",
     "output_type": "stream",
     "text": [
      "correct ::>173\n",
      "incorrect ::>89\n",
      "Test Set ::>0.6603053435114504\n",
      "Train Set ::>0.6723973256924546\n"
     ]
    }
   ],
   "source": [
    "i=0\n",
    "correct = 0\n",
    "incorrect= 0\n",
    "\n",
    "for result in Y[1047:]:\n",
    "    if testPredict[i] == result:\n",
    "        correct=correct+1\n",
    "    else:\n",
    "        incorrect= incorrect+1\n",
    "    i=i+1\n",
    "    \n",
    "\n",
    "print('correct ::>' + str(correct))\n",
    "print('incorrect ::>' + str(incorrect))\n",
    "\n",
    "print('Test Set ::>' + str(gnb.score(X[1047:],Y[1047:])))\n",
    "print('Train Set ::>'+ str(gnb.score(X[:1047],Y[:1047])))"
   ]
  }
 ],
 "metadata": {
  "kernelspec": {
   "display_name": "Python 3",
   "language": "python",
   "name": "python3"
  },
  "language_info": {
   "codemirror_mode": {
    "name": "ipython",
    "version": 3
   },
   "file_extension": ".py",
   "mimetype": "text/x-python",
   "name": "python",
   "nbconvert_exporter": "python",
   "pygments_lexer": "ipython3",
   "version": "3.5.2"
  }
 },
 "nbformat": 4,
 "nbformat_minor": 2
}
