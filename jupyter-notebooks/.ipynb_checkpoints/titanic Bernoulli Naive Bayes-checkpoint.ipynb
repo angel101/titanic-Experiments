{
 "cells": [
  {
   "cell_type": "code",
   "execution_count": 1,
   "metadata": {},
   "outputs": [
    {
     "name": "stdout",
     "output_type": "stream",
     "text": [
      "hdf5 is not supported on this machine (please install/reinstall h5py for optimal experience)\n"
     ]
    }
   ],
   "source": [
    "#utils\n",
    "import pdb\n",
    "import pandas\n",
    "import  numpy as np\n",
    "\n",
    "#TF/ TF utilities\n",
    "from tflearn.datasets import titanic\n",
    "from tflearn.data_utils import load_csv\n",
    "\n",
    "\n",
    "#sklearn bayes\n",
    "from sklearn.naive_bayes import BernoulliNB\n",
    "\n",
    "def preprocess(data,novelties):\n",
    "\tdataset = []\n",
    "    #get dummy variables for the name titles ('mr,ms,doctor, etc')\n",
    "\tdummiesDataFrame = pandas.get_dummies(novelties)\n",
    "    #parce dataset to numeric values \n",
    "\tfor item in data:\n",
    "\t\ttmp = []\n",
    "\t\ttmp.append(int(item[0]))\n",
    "\n",
    "\t\ttmp.append(dummiesDataFrame.index[dummiesDataFrame[item[1].split(',')[1].strip().split(' ')[0]]==True].tolist()[0])\n",
    "\n",
    "\t\ttmp.append(1 if item[2]=='female' else 0)\n",
    "\t\ttmp.append(float(item[3]))\n",
    "\t\ttmp.append(int(item[4]))\n",
    "\t\ttmp.append(int(item[5]))\n",
    "\t\ttmp.append(float(item[7]))\n",
    "\t\tdataset.append(tmp)\n",
    "\treturn dataset\n",
    "\n",
    "\n",
    "\n",
    "#download titanic dataset\n",
    "titanic.download_dataset()\n",
    "dict_novelties=[]\n"
   ]
  },
  {
   "cell_type": "code",
   "execution_count": 2,
   "metadata": {},
   "outputs": [
    {
     "name": "stdout",
     "output_type": "stream",
     "text": [
      "   0  1  2        3  4  5         6\n",
      "0  1  0  1  29.0000  0  0  211.3375\n",
      "1  1  1  0   0.9167  1  2  151.5500\n",
      "2  1  0  1   2.0000  1  2  151.5500\n",
      "3  1  2  0  30.0000  1  2  151.5500\n",
      "4  1  3  1  25.0000  1  2  151.5500\n",
      "BernoulliNB(alpha=1.0, binarize=0.0, class_prior=None, fit_prior=True)\n"
     ]
    }
   ],
   "source": [
    "data, labels = load_csv('titanic_dataset.csv', target_column=0,\n",
    "                       categorical_labels=True, n_classes=2)\n",
    "\n",
    "#feed titles dictionary \n",
    "for item in data:\n",
    "\tif not item[1].split(',')[1].strip().split(' ')[0] in dict_novelties:\n",
    "\t\tdict_novelties.append(item[1].split(',')[1].strip().split(' ')[0])\n",
    "\n",
    "\n",
    "dataset = preprocess(data,dict_novelties)\n",
    "\n",
    "dataset=pandas.DataFrame(dataset)\n",
    "\n",
    "\n",
    "print(dataset.head())\n",
    "\n",
    "gnb = BernoulliNB()\n",
    "\n",
    "Y=[]\n",
    "#reshape in a not that fancy way label array \n",
    "for label in labels:\n",
    "    if label[0] == 1.0:\n",
    "        Y.append(1)\n",
    "    else:\n",
    "        Y.append(0)\n",
    "\n",
    "y_pred = gnb.fit(dataset[0:1047], Y[0:1047])\n",
    "\n",
    "\n",
    "print(y_pred)\n",
    "\n",
    "testPredict = y_pred.predict(dataset[1047:])\n"
   ]
  },
  {
   "cell_type": "code",
   "execution_count": 3,
   "metadata": {},
   "outputs": [
    {
     "name": "stdout",
     "output_type": "stream",
     "text": [
      "correct ::>200\n",
      "incorrect ::>62\n",
      "Train Set ::>0.7841451766953199\n",
      "Test Set ::>0.7633587786259542\n"
     ]
    }
   ],
   "source": [
    "i=0\n",
    "correct = 0\n",
    "incorrect= 0\n",
    "\n",
    "for result in Y[1047:]:\n",
    "    if testPredict[i] == result:\n",
    "        correct=correct+1\n",
    "    else:\n",
    "        incorrect= incorrect+1\n",
    "    i=i+1\n",
    "    \n",
    "\n",
    "print('correct ::>' + str(correct))\n",
    "print('incorrect ::>' + str(incorrect))\n",
    "\n",
    "print('Train Set ::>'+ str(gnb.score(dataset[0:1047],Y[0:1047])))\n",
    "\n",
    "print('Test Set ::>' + str(gnb.score(dataset[1047:],Y[1047:])))"
   ]
  }
 ],
 "metadata": {
  "kernelspec": {
   "display_name": "Python 3",
   "language": "python",
   "name": "python3"
  },
  "language_info": {
   "codemirror_mode": {
    "name": "ipython",
    "version": 3
   },
   "file_extension": ".py",
   "mimetype": "text/x-python",
   "name": "python",
   "nbconvert_exporter": "python",
   "pygments_lexer": "ipython3",
   "version": "3.5.2"
  }
 },
 "nbformat": 4,
 "nbformat_minor": 2
}
