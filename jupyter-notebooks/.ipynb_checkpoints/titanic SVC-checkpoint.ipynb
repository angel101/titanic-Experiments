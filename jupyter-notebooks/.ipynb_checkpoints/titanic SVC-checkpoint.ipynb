{
 "cells": [
  {
   "cell_type": "code",
   "execution_count": 1,
   "metadata": {},
   "outputs": [
    {
     "name": "stderr",
     "output_type": "stream",
     "text": [
      "/usr/local/lib/python3.5/dist-packages/h5py/__init__.py:36: FutureWarning: Conversion of the second argument of issubdtype from `float` to `np.floating` is deprecated. In future, it will be treated as `np.float64 == np.dtype(float).type`.\n",
      "  from ._conv import register_converters as _register_converters\n"
     ]
    }
   ],
   "source": [
    "#utils\n",
    "import pdb\n",
    "import pandas\n",
    "import  numpy as np\n",
    "\n",
    "#sklearn bayes\n",
    "from sklearn import svm\n",
    "\n",
    "#local utils\n",
    "from utils import Utils\n",
    "\n",
    "dataset,labels = Utils.preprocess(False)"
   ]
  },
  {
   "cell_type": "code",
   "execution_count": 2,
   "metadata": {},
   "outputs": [
    {
     "name": "stdout",
     "output_type": "stream",
     "text": [
      "   0  1        2  3  4         5\n",
      "0  1  1  29.0000  0  0  211.3375\n",
      "1  1  0   0.9167  1  2  151.5500\n",
      "2  1  1   2.0000  1  2  151.5500\n",
      "3  1  0  30.0000  1  2  151.5500\n",
      "4  1  1  25.0000  1  2  151.5500\n",
      "SVC(C=1.0, cache_size=200, class_weight=None, coef0=0.0,\n",
      "  decision_function_shape='ovr', degree=3, gamma='auto', kernel='rbf',\n",
      "  max_iter=-1, probability=False, random_state=None, shrinking=True,\n",
      "  tol=0.001, verbose=False)\n"
     ]
    }
   ],
   "source": [
    "print(dataset.head())\n",
    "\n",
    "svc = svm.SVC()\n",
    "nusvc = svm.NuSVC()\n",
    "lsvc = svm.LinearSVC()\n",
    "svr = svm.SVR()\n",
    "\n",
    "X=dataset\n",
    "Y=labels\n",
    "\n",
    "y_pred_SVC = svc.fit(X[0:1047], Y[0:1047])\n",
    "y_pred_NuSVC = nusvc.fit(X[0:1047], Y[0:1047])\n",
    "y_pred_LSVC = lsvc.fit(X[0:1047], Y[0:1047])\n",
    "y_pred_SVR = svr.fit(X[0:1047], Y[0:1047])\n",
    "\n",
    "print(y_pred_SVC)\n",
    "\n",
    "testPredict_SVC = y_pred_SVC.predict(X[1047:])\n",
    "testPredict_NUSVC = y_pred_NuSVC.predict(X[1047:])\n",
    "testPredict_LSVC = y_pred_LSVC.predict(X[1047:])\n",
    "testPredict_SVCR = y_pred_SVR.predict(X[1047:])\n"
   ]
  },
  {
   "cell_type": "code",
   "execution_count": 3,
   "metadata": {},
   "outputs": [
    {
     "name": "stdout",
     "output_type": "stream",
     "text": [
      "SVC--------------------------------------------------\n",
      "Train Set ::>0.8739255014326648\n",
      "Test Set ::>0.6755725190839694\n",
      "NuSVC------------------------------------------------\n",
      "Train Set ::>0.9130850047755492\n",
      "Test Set ::>0.683206106870229\n",
      "LinearSVC--------------------------------------------\n",
      "Train Set ::>0.7659980897803247\n",
      "Test Set ::>0.767175572519084\n",
      "SVR--------------------------------------------------\n",
      "Train Set ::>0.6874729376485029\n",
      "Test Set ::>-0.16014566011362175\n"
     ]
    }
   ],
   "source": [
    "print('SVC--------------------------------------------------')\n",
    "print('Train Set ::>'+ str(svc.score(X[0:1047],Y[0:1047])))\n",
    "\n",
    "print('Test Set ::>' + str(svc.score(X[1047:],Y[1047:])))\n",
    "\n",
    "\n",
    "print('NuSVC------------------------------------------------')\n",
    "print('Train Set ::>'+ str(nusvc.score(X[0:1047],Y[0:1047])))\n",
    "\n",
    "print('Test Set ::>' + str(nusvc.score(X[1047:],Y[1047:])))\n",
    "\n",
    "print('LinearSVC--------------------------------------------')\n",
    "print('Train Set ::>'+ str(lsvc.score(X[0:1047],Y[0:1047])))\n",
    "\n",
    "print('Test Set ::>' + str(lsvc.score(X[1047:],Y[1047:])))\n",
    "\n",
    "print('SVR--------------------------------------------------')\n",
    "print('Train Set ::>'+ str(svr.score(X[0:1047],Y[0:1047])))\n",
    "\n",
    "print('Test Set ::>' + str(svr.score(X[1047:],Y[1047:])))\n"
   ]
  }
 ],
 "metadata": {
  "kernelspec": {
   "display_name": "Python 3",
   "language": "python",
   "name": "python3"
  },
  "language_info": {
   "codemirror_mode": {
    "name": "ipython",
    "version": 3
   },
   "file_extension": ".py",
   "mimetype": "text/x-python",
   "name": "python",
   "nbconvert_exporter": "python",
   "pygments_lexer": "ipython3",
   "version": "3.5.2"
  }
 },
 "nbformat": 4,
 "nbformat_minor": 2
}
