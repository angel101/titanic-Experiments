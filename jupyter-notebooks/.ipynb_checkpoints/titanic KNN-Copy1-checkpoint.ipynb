{
 "cells": [
  {
   "cell_type": "code",
   "execution_count": 7,
   "metadata": {
    "scrolled": true
   },
   "outputs": [
    {
     "name": "stdout",
     "output_type": "stream",
     "text": [
      "['Mr.', 'Mrs.', 'Miss.', 'Master.', 'Don.', 'Rev.', 'Dr.', 'Mme.', 'Ms.', 'Major.', 'Lady.', 'Sir.', 'Mlle.', 'Col.', 'Capt.', 'the', 'Jonkheer.']\n",
      "['S', 'C', 'Q', '']\n"
     ]
    },
    {
     "data": {
      "text/plain": [
       "(891,)"
      ]
     },
     "execution_count": 7,
     "metadata": {},
     "output_type": "execute_result"
    }
   ],
   "source": [
    "#utils\n",
    "import pdb\n",
    "import pandas\n",
    "import  numpy as np\n",
    "\n",
    "#keras\n",
    "import tflearn \n",
    "import tensorflow as tf \n",
    "\n",
    "\n",
    "from keras.models import Sequential\n",
    "from keras.layers import Dense, Activation, Dropout, SimpleRNN, LSTM\n",
    "\n",
    "#local utils\n",
    "from utils import Utils\n",
    "\n",
    "dataset,labels = Utils.preprocess()\n",
    "\n",
    "dataset.shape\n",
    "\n",
    "\n",
    "\n",
    "np.array(labels).shape"
   ]
  },
  {
   "cell_type": "code",
   "execution_count": 17,
   "metadata": {
    "scrolled": true
   },
   "outputs": [
    {
     "name": "stdout",
     "output_type": "stream",
     "text": [
      "(891, 8)\n",
      "(891,)\n",
      "Epoch 1/10\n",
      "891/891 [==============================] - 2s 2ms/step - loss: 0.4180\n",
      "Epoch 2/10\n",
      "891/891 [==============================] - 0s 372us/step - loss: 0.2516\n",
      "Epoch 3/10\n",
      "891/891 [==============================] - 0s 375us/step - loss: 0.2504\n",
      "Epoch 4/10\n",
      "891/891 [==============================] - 0s 372us/step - loss: 0.2535\n",
      "Epoch 5/10\n",
      "891/891 [==============================] - 0s 376us/step - loss: 0.2458\n",
      "Epoch 6/10\n",
      "891/891 [==============================] - 0s 385us/step - loss: 0.2472\n",
      "Epoch 7/10\n",
      "891/891 [==============================] - 0s 384us/step - loss: 0.2511\n",
      "Epoch 8/10\n",
      "891/891 [==============================] - 0s 384us/step - loss: 0.2415\n",
      "Epoch 9/10\n",
      "891/891 [==============================] - 0s 390us/step - loss: 0.2455\n",
      "Epoch 10/10\n",
      "891/891 [==============================] - 0s 426us/step - loss: 0.2432\n"
     ]
    },
    {
     "data": {
      "text/plain": [
       "<keras.callbacks.History at 0x7f4826611668>"
      ]
     },
     "execution_count": 17,
     "metadata": {},
     "output_type": "execute_result"
    }
   ],
   "source": [
    "\n",
    "\n",
    "X=dataset\n",
    "Y=labels\n",
    "\n",
    "print(X.shape)\n",
    "print(np.array(Y).shape)\n",
    "\n",
    "model= Sequential()\n",
    "model.add(Dense(128,input_dim=8,kernel_initializer='normal', bias_initializer='zeros'))\n",
    "model.add(Activation('relu'))\n",
    "for i in range(0, 80):\n",
    "    model.add(Dense(units=64, kernel_initializer='normal',\n",
    "                     bias_initializer='zeros'))\n",
    "    model.add(Activation('relu'))\n",
    "    model.add(Dropout(.25))\n",
    "model.add(Dense(1, activation='linear'))\n",
    "\n",
    "model.compile(optimizer='adam',\n",
    "              loss='categorical_crossentropy',\n",
    "              \n",
    "             )\n",
    "\n",
    "model.fit(X,np.array(Y),epochs=10,batch_size=32)\n",
    "\n",
    "\n",
    "#model.fit(X,Y)\n",
    "#print(y_pred_KNN)\n",
    "\n",
    "#testPredict_KNN = y_pred_KNN.predict(X[1047:])\n",
    "\n"
   ]
  },
  {
   "cell_type": "code",
   "execution_count": null,
   "metadata": {
    "scrolled": true
   },
   "outputs": [],
   "source": [
    "print('KNN--------------------------------------------------')\n",
    "print('Train Set ::>'+ str(knn.score(X[0:1047],Y[0:1047])))\n",
    "\n",
    "print('Test Set ::>' + str(knn.score(X[1047:],Y[1047:])))\n",
    "\n"
   ]
  },
  {
   "cell_type": "code",
   "execution_count": null,
   "metadata": {},
   "outputs": [],
   "source": []
  }
 ],
 "metadata": {
  "kernelspec": {
   "display_name": "Python 3",
   "language": "python",
   "name": "python3"
  },
  "language_info": {
   "codemirror_mode": {
    "name": "ipython",
    "version": 3
   },
   "file_extension": ".py",
   "mimetype": "text/x-python",
   "name": "python",
   "nbconvert_exporter": "python",
   "pygments_lexer": "ipython3",
   "version": "3.5.2"
  }
 },
 "nbformat": 4,
 "nbformat_minor": 2
}
